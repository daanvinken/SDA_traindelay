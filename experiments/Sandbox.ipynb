{
 "cells": [
  {
   "cell_type": "code",
   "execution_count": 13,
   "metadata": {},
   "outputs": [],
   "source": [
    "import csv\n",
    "import datetime\n"
   ]
  },
  {
   "cell_type": "markdown",
   "metadata": {},
   "source": [
    "LET OP INDEXING -1\n",
    "\n",
    "1. Datum\n",
    "2. Station\n",
    "3. Treinnummer\n",
    "4. Vervoerder\n",
    "5. Treinsoort\n",
    "6. Bestemming\n",
    "7. Vertrektijd\n",
    "8. Vertraging in minuten\n",
    "9. Opgeheven (1=ja, 0=nee)\n",
    "10. Weekday (optional)"
   ]
  },
  {
   "cell_type": "code",
   "execution_count": null,
   "metadata": {},
   "outputs": [],
   "source": [
    "#add datetime object to csv OBSOLETE\n",
    "with open('../data/delay.csv') as source_file:\n",
    "    reader = csv.reader(source_file, delimiter=\",\")\n",
    "    for row in reader:\n",
    "        sd_str = row[0].split(\"-\") #yy/mm/dd\n",
    "        sd = [int(item) for item in sd_str]\n",
    "        datetimez = datetime.date(sd[0],sd[1],sd[2])\n",
    "        print(datetimez)\n",
    "        "
   ]
  },
  {
   "cell_type": "code",
   "execution_count": 9,
   "metadata": {},
   "outputs": [],
   "source": [
    "max_delay=100\n",
    "delayList=[]\n",
    "stations = dict()\n",
    "# we always use the same source file\n",
    "with open('../data/delay.csv') as source_file:\n",
    "    reader = csv.reader(source_file, delimiter=\",\")\n",
    "    for row in reader:\n",
    "        station = row[1]\n",
    "        if station in stations:\n",
    "            stations[row[1]] += 1\n",
    "        else:\n",
    "            stations[row[1]] = 1"
   ]
  },
  {
   "cell_type": "markdown",
   "metadata": {},
   "source": [
    "With the dict \"stations\" we define the size of a station."
   ]
  },
  {
   "cell_type": "code",
   "execution_count": 12,
   "metadata": {},
   "outputs": [
    {
     "ename": "SyntaxError",
     "evalue": "unexpected EOF while parsing (<ipython-input-12-f7647058ad20>, line 2)",
     "output_type": "error",
     "traceback": [
      "\u001b[0;36m  File \u001b[0;32m\"<ipython-input-12-f7647058ad20>\"\u001b[0;36m, line \u001b[0;32m2\u001b[0m\n\u001b[0;31m    def __init__(self):\u001b[0m\n\u001b[0m                       ^\u001b[0m\n\u001b[0;31mSyntaxError\u001b[0m\u001b[0;31m:\u001b[0m unexpected EOF while parsing\n"
     ]
    }
   ],
   "source": [
    "class dutch_trains:\n",
    "    def __init__:\n",
    "        train_rides = []\n",
    "    \n",
    "class train_ride:\n",
    "    def __init__(self, row):\n",
    "        self.date = row[0]\n",
    "        self.start_station = row[1]\n",
    "        self.train_number = row[2]\n",
    "        self.transporter = row[3]\n",
    "        self.train_type = row[4]\n",
    "        self.destination_s = list(row[5])\n",
    "        self.departure_time = row[6]\n",
    "        #self.delay_at_station = None\n",
    "        #self.cancelled = None\n",
    "        "
   ]
  },
  {
   "cell_type": "code",
   "execution_count": null,
   "metadata": {},
   "outputs": [],
   "source": []
  }
 ],
 "metadata": {
  "kernelspec": {
   "display_name": "Python 3",
   "language": "python",
   "name": "python3"
  },
  "language_info": {
   "codemirror_mode": {
    "name": "ipython",
    "version": 3
   },
   "file_extension": ".py",
   "mimetype": "text/x-python",
   "name": "python",
   "nbconvert_exporter": "python",
   "pygments_lexer": "ipython3",
   "version": "3.7.3"
  }
 },
 "nbformat": 4,
 "nbformat_minor": 2
}
